{
  "nbformat": 4,
  "nbformat_minor": 0,
  "metadata": {
    "colab": {
      "private_outputs": true,
      "provenance": []
    },
    "kernelspec": {
      "name": "python3",
      "display_name": "Python 3"
    },
    "language_info": {
      "name": "python"
    }
  },
  "cells": [
    {
      "cell_type": "code",
      "execution_count": null,
      "metadata": {
        "id": "8Og_DMASAylt"
      },
      "outputs": [],
      "source": [
        "import pandas as pd\n",
        "import numpy as np\n",
        "import matplotlib.pyplot as plt\n",
        "import seaborn as sns\n",
        "import warnings\n",
        "warnings.filterwarnings('ignore')\n",
        "%matplotlib inline"
      ]
    },
    {
      "cell_type": "markdown",
      "source": [],
      "metadata": {
        "id": "0Cxdd7iaZhwW"
      }
    },
    {
      "cell_type": "code",
      "source": [
        "df = pd.read_excel('./flight_price.xlsx')"
      ],
      "metadata": {
        "id": "Y0tM1iRrZQH_"
      },
      "execution_count": null,
      "outputs": []
    },
    {
      "cell_type": "code",
      "source": [
        "df.head()"
      ],
      "metadata": {
        "id": "voRO0hscZr9i"
      },
      "execution_count": null,
      "outputs": []
    },
    {
      "cell_type": "code",
      "source": [
        "df.tail()"
      ],
      "metadata": {
        "id": "AN82PI6EZvko"
      },
      "execution_count": null,
      "outputs": []
    },
    {
      "cell_type": "code",
      "source": [
        "#get the basics info about data\n",
        "df.info()"
      ],
      "metadata": {
        "id": "J3EsYriTaGl0"
      },
      "execution_count": null,
      "outputs": []
    },
    {
      "cell_type": "code",
      "source": [
        "df.describe()"
      ],
      "metadata": {
        "id": "NM7xciJgaMVc"
      },
      "execution_count": null,
      "outputs": []
    },
    {
      "cell_type": "code",
      "source": [
        "df.head()"
      ],
      "metadata": {
        "id": "EnKxLG6taUx_"
      },
      "execution_count": null,
      "outputs": []
    },
    {
      "cell_type": "markdown",
      "source": [
        "## feature Engineering"
      ],
      "metadata": {
        "id": "drpqJ2vPas1z"
      }
    },
    {
      "cell_type": "code",
      "source": [
        "## feature Engineering\n",
        "\n",
        "df['Date'] = df['Date_of_Journey'].str.split('/').str[0]\n",
        "df['Month'] = df['Date_of_Journey'].str.split('/').str[1]\n",
        "df['Year'] = df['Date_of_Journey'].str.split('/').str[2]"
      ],
      "metadata": {
        "id": "Bi3MhaM7aaXi"
      },
      "execution_count": null,
      "outputs": []
    },
    {
      "cell_type": "code",
      "source": [
        "df['Date'] = df['Date'].astype(int)\n",
        "df['Month'] = df['Month'].astype(int)\n",
        "df['Year'] = df['Year'].astype(int)"
      ],
      "metadata": {
        "id": "tuaAKQwNaqUh"
      },
      "execution_count": null,
      "outputs": []
    },
    {
      "cell_type": "code",
      "source": [
        "# drop\n",
        "df.drop('Date_of_Journey', axis=1, inplace=True)"
      ],
      "metadata": {
        "id": "N45_RWh8bh-x"
      },
      "execution_count": null,
      "outputs": []
    },
    {
      "cell_type": "code",
      "source": [
        "df['Arrival_Time'] = df['Arrival_Time'].apply(lambda x: x.split(' ')[0])"
      ],
      "metadata": {
        "id": "q2cbBYAacXJW"
      },
      "execution_count": null,
      "outputs": []
    },
    {
      "cell_type": "code",
      "source": [
        "df['Arrival_hour'] = df['Arrival_Time'].str.split(':').str[0]\n",
        "df['Arrival_min'] = df['Arrival_Time'].str.split(':').str[1]"
      ],
      "metadata": {
        "id": "dSHdebDHbs41"
      },
      "execution_count": null,
      "outputs": []
    },
    {
      "cell_type": "code",
      "source": [
        "df.head(2)"
      ],
      "metadata": {
        "id": "sREwAdHScMpM"
      },
      "execution_count": null,
      "outputs": []
    },
    {
      "cell_type": "code",
      "source": [
        "df['Arrival_hour'] = df['Arrival_hour'].astype(int)\n",
        "df['Arrival_min'] = df['Arrival_min'].astype(int)"
      ],
      "metadata": {
        "id": "dyyjNCISc5CX"
      },
      "execution_count": null,
      "outputs": []
    },
    {
      "cell_type": "code",
      "source": [
        "df.drop('Arrival_Time', axis=1, inplace=True)"
      ],
      "metadata": {
        "id": "hZwgjDoBc-eJ"
      },
      "execution_count": null,
      "outputs": []
    },
    {
      "cell_type": "code",
      "source": [
        "df.head()"
      ],
      "metadata": {
        "id": "UCZ5OkmkdBKc"
      },
      "execution_count": null,
      "outputs": []
    },
    {
      "cell_type": "code",
      "source": [
        "df['Dep_hour'] = df['Dep_Time'].str.split(':').str[0]\n",
        "df['Dep_min'] = df['Dep_Time'].str.split(':').str[1]"
      ],
      "metadata": {
        "id": "Dv3DkydddGtz"
      },
      "execution_count": null,
      "outputs": []
    },
    {
      "cell_type": "code",
      "source": [
        "df['Dep_hour'] = df['Dep_hour'].astype(int)\n",
        "df['Dep_min'] = df['Dep_min'].astype(int)"
      ],
      "metadata": {
        "id": "872aS_-1dXOq"
      },
      "execution_count": null,
      "outputs": []
    },
    {
      "cell_type": "code",
      "source": [
        "df.info()"
      ],
      "metadata": {
        "id": "muVjri9-dniD"
      },
      "execution_count": null,
      "outputs": []
    },
    {
      "cell_type": "code",
      "source": [
        "df.drop('Dep_Time', axis=1, inplace=True)"
      ],
      "metadata": {
        "id": "M9KY5SJ5dwGy"
      },
      "execution_count": null,
      "outputs": []
    },
    {
      "cell_type": "code",
      "source": [
        "df.head()"
      ],
      "metadata": {
        "id": "uU9BJza8d_Sg"
      },
      "execution_count": null,
      "outputs": []
    },
    {
      "cell_type": "code",
      "source": [
        "df['Total_Stops'].unique()"
      ],
      "metadata": {
        "id": "tikZduvweEBk"
      },
      "execution_count": null,
      "outputs": []
    },
    {
      "cell_type": "code",
      "source": [
        "df['Total_Stops'] = df['Total_Stops'].map({'non-stop':0, '2 stops':2, '1 stop':1, '3 stops':3, 'nan':1, '4 stops':4, np.nan:1})"
      ],
      "metadata": {
        "id": "wXlt-09peLSr"
      },
      "execution_count": null,
      "outputs": []
    },
    {
      "cell_type": "code",
      "source": [
        "df[df['Total_Stops'].isnull()]"
      ],
      "metadata": {
        "id": "h4QjSXqRfti8"
      },
      "execution_count": null,
      "outputs": []
    },
    {
      "cell_type": "code",
      "source": [
        "df.drop('Route', axis=1, inplace=True)"
      ],
      "metadata": {
        "id": "yhOF8Tvzg507"
      },
      "execution_count": null,
      "outputs": []
    },
    {
      "cell_type": "code",
      "source": [
        "df.head(2)"
      ],
      "metadata": {
        "id": "91fidM6ag_Na"
      },
      "execution_count": null,
      "outputs": []
    },
    {
      "cell_type": "code",
      "source": [
        "df['Duration'].str.split(' ').str[0].str.split('h').str[0]"
      ],
      "metadata": {
        "id": "pMwaApZYhFbQ"
      },
      "execution_count": null,
      "outputs": []
    },
    {
      "cell_type": "code",
      "source": [
        "df['Airline'].unique()"
      ],
      "metadata": {
        "id": "c1RiU6hhhU6B"
      },
      "execution_count": null,
      "outputs": []
    },
    {
      "cell_type": "code",
      "source": [
        "df['Source'].unique()"
      ],
      "metadata": {
        "id": "jCxYwgshhhx8"
      },
      "execution_count": null,
      "outputs": []
    },
    {
      "cell_type": "code",
      "source": [
        "df['Additional_Info'].unique()"
      ],
      "metadata": {
        "id": "0lw1iUjfhn0m"
      },
      "execution_count": null,
      "outputs": []
    },
    {
      "cell_type": "code",
      "source": [
        "from sklearn.preprocessing import OneHotEncoder"
      ],
      "metadata": {
        "id": "P2uvr1U8hsRy"
      },
      "execution_count": null,
      "outputs": []
    },
    {
      "cell_type": "code",
      "source": [
        "encoder = OneHotEncoder()"
      ],
      "metadata": {
        "id": "M3wrwzvXhyDw"
      },
      "execution_count": null,
      "outputs": []
    },
    {
      "cell_type": "code",
      "source": [
        "encoder.fit_transform(df[['Airline', 'Source', 'Destination']]).toarray()"
      ],
      "metadata": {
        "id": "FcRm8OL6h3AF"
      },
      "execution_count": null,
      "outputs": []
    },
    {
      "cell_type": "code",
      "source": [
        "pd.DataFrame(encoder.fit_transform(df[['Airline', 'Source', 'Destination']]).toarray(), columns=encoder.get_feature_names_out())"
      ],
      "metadata": {
        "id": "T879PfGViB8z"
      },
      "execution_count": null,
      "outputs": []
    },
    {
      "cell_type": "code",
      "source": [],
      "metadata": {
        "id": "ncKw_K2TiXP8"
      },
      "execution_count": null,
      "outputs": []
    }
  ]
}